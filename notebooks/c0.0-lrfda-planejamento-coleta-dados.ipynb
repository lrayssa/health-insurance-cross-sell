{
 "cells": [
  {
   "cell_type": "markdown",
   "id": "6ec71121",
   "metadata": {},
   "source": [
    "# Planejamento da solução - IOT\n",
    "\n",
    "## Entradas\n",
    "\n",
    "### O Problema de negócio\n",
    "\n",
    "A empresa Insurance All atualmente atua no setor de seguros de saúde e pretende atuar no setor de seguro de automóveis. Eles fizeram uma pesquisa com 380 mil clientes sobre o interesse de aquisição desse novo produto e armazenaram em um banco de dados. Agora, o time comercial precisa ofertar o novo seguro para 127 mil clientes que não fizeram a pesquisa, durante uma campanha. As vendas são feitas através de ligações telefônicas.Porém, o time comercial só tem capcidade de fazer 20 mil ligações no período da campanha.\n",
    "\n",
    "Para determinar para quais clientes o time comercial deve ligar, a Insurance All te contratou como consultor de ciência de dados. Como resultado da sua consultoria, você precisará entregar um relatório contendo algumas análises e respostas às seguintes perguntas:\n",
    "\n",
    "- Principais Insights sobre os atributos mais relevantes de clientes interessados em adquirir um seguro de automóvel.\n",
    "- Qual a porcentagem de clientes interessados em adquirir um seguro de automóvel, o time de vendas conseguirá contatar fazendo 20.000 ligações?\n",
    "- E se a capacidade do time de vendas aumentar para 40.000 ligações, qual a porcentagem de clientes interessados em adquirir um seguro de automóvel o time de vendas conseguirá contatar?\n",
    "- Quantas ligações o time de vendas precisa fazer para contatar 80% dos clientes interessados em adquirir um seguro de automóvel?\n",
    "\n",
    "### Fonte de dados\n",
    "\n",
    "Os dados dos clientes e pesquisa estão armazenados em um banco de dados (Postgres 12.0 na AWS).\n",
    "\n",
    "\n",
    "\n",
    "\n",
    "\n",
    "## Saídas\n",
    "Entrega de um relatório interativo com as informações pedidas no Google Data Studio\n",
    "\n",
    "\n",
    "\n",
    "## Tarefas\n",
    "- Descrição dos dados\n",
    "    - Substituição de NAs\n",
    "- EDA\n",
    "    - Análise Univariada\n",
    "    - Análise Bivariada\n",
    "    - Análise Multivariada\n",
    "    - Relatório de Insights\n",
    "    - Detecção de outliers\n",
    "    - Feature engineering\n",
    "    - Feature selection\n",
    "- Treinamento dos algoritmos de Machine Learning\n",
    "    - Análise de performance\n",
    "- Aplicação do modelo na base de 127 mil clientes\n",
    "    - Exportação dos resultados\n",
    "- Criação de relatório no Data Studio\n",
    "    \n"
   ]
  },
  {
   "cell_type": "markdown",
   "id": "ee36b029",
   "metadata": {},
   "source": [
    "# 0.0 Imports"
   ]
  },
  {
   "cell_type": "code",
   "execution_count": 9,
   "id": "3a510132",
   "metadata": {
    "ExecuteTime": {
     "end_time": "2022-01-02T23:43:20.571669Z",
     "start_time": "2022-01-02T23:43:20.568325Z"
    }
   },
   "outputs": [],
   "source": [
    "import pandas as pd\n",
    "from sqlalchemy import create_engine"
   ]
  },
  {
   "cell_type": "code",
   "execution_count": 13,
   "id": "7bd301eb",
   "metadata": {
    "ExecuteTime": {
     "end_time": "2022-01-02T23:49:40.005838Z",
     "start_time": "2022-01-02T23:49:39.980939Z"
    }
   },
   "outputs": [],
   "source": [
    "import psycopg2"
   ]
  },
  {
   "cell_type": "markdown",
   "id": "99e65fec",
   "metadata": {},
   "source": [
    "## 0.1 Data colection"
   ]
  },
  {
   "cell_type": "code",
   "execution_count": 60,
   "id": "e1c5bd13",
   "metadata": {
    "ExecuteTime": {
     "end_time": "2022-01-03T00:11:09.517167Z",
     "start_time": "2022-01-03T00:11:09.514033Z"
    }
   },
   "outputs": [],
   "source": [
    "#connection = psycopg2.connect(\n",
    " #   host = 'comunidade-ds-postgres.c50pcakiuwi3.us-east-1.rds.amazonaws.com',\n",
    "  #  port = 5432,\n",
    "   # user = \n",
    "    #password = \n",
    "    #database=\n",
    "    #)\n",
    "#cursor=connection.cursor()"
   ]
  },
  {
   "cell_type": "code",
   "execution_count": 48,
   "id": "0345a851",
   "metadata": {
    "ExecuteTime": {
     "end_time": "2022-01-03T00:01:46.298495Z",
     "start_time": "2022-01-03T00:01:46.291598Z"
    }
   },
   "outputs": [],
   "source": [
    "query = '''SELECT table_name,column_name, data_type, table_schema\n",
    "FROM INFORMATION_SCHEMA.COLUMNS\n",
    "where table_schema = 'pa004'\n",
    "ORDER BY table_name '''"
   ]
  },
  {
   "cell_type": "code",
   "execution_count": 49,
   "id": "9f7bed25",
   "metadata": {
    "ExecuteTime": {
     "end_time": "2022-01-03T00:01:48.241889Z",
     "start_time": "2022-01-03T00:01:47.749654Z"
    }
   },
   "outputs": [],
   "source": [
    "database = pd.read_sql(query, con=connection)\n",
    "connection.commit()"
   ]
  },
  {
   "cell_type": "code",
   "execution_count": 50,
   "id": "5edbdcee",
   "metadata": {
    "ExecuteTime": {
     "end_time": "2022-01-03T00:01:49.328557Z",
     "start_time": "2022-01-03T00:01:49.295978Z"
    },
    "scrolled": false
   },
   "outputs": [
    {
     "data": {
      "text/html": [
       "<div>\n",
       "<style scoped>\n",
       "    .dataframe tbody tr th:only-of-type {\n",
       "        vertical-align: middle;\n",
       "    }\n",
       "\n",
       "    .dataframe tbody tr th {\n",
       "        vertical-align: top;\n",
       "    }\n",
       "\n",
       "    .dataframe thead th {\n",
       "        text-align: right;\n",
       "    }\n",
       "</style>\n",
       "<table border=\"1\" class=\"dataframe\">\n",
       "  <thead>\n",
       "    <tr style=\"text-align: right;\">\n",
       "      <th></th>\n",
       "      <th>table_name</th>\n",
       "      <th>column_name</th>\n",
       "      <th>data_type</th>\n",
       "      <th>table_schema</th>\n",
       "    </tr>\n",
       "  </thead>\n",
       "  <tbody>\n",
       "    <tr>\n",
       "      <th>0</th>\n",
       "      <td>insurance</td>\n",
       "      <td>vintage</td>\n",
       "      <td>integer</td>\n",
       "      <td>pa004</td>\n",
       "    </tr>\n",
       "    <tr>\n",
       "      <th>1</th>\n",
       "      <td>insurance</td>\n",
       "      <td>previously_insured</td>\n",
       "      <td>integer</td>\n",
       "      <td>pa004</td>\n",
       "    </tr>\n",
       "    <tr>\n",
       "      <th>2</th>\n",
       "      <td>insurance</td>\n",
       "      <td>id</td>\n",
       "      <td>integer</td>\n",
       "      <td>pa004</td>\n",
       "    </tr>\n",
       "    <tr>\n",
       "      <th>3</th>\n",
       "      <td>insurance</td>\n",
       "      <td>response</td>\n",
       "      <td>integer</td>\n",
       "      <td>pa004</td>\n",
       "    </tr>\n",
       "    <tr>\n",
       "      <th>4</th>\n",
       "      <td>insurance</td>\n",
       "      <td>annual_premium</td>\n",
       "      <td>double precision</td>\n",
       "      <td>pa004</td>\n",
       "    </tr>\n",
       "    <tr>\n",
       "      <th>5</th>\n",
       "      <td>users</td>\n",
       "      <td>region_code</td>\n",
       "      <td>double precision</td>\n",
       "      <td>pa004</td>\n",
       "    </tr>\n",
       "    <tr>\n",
       "      <th>6</th>\n",
       "      <td>users</td>\n",
       "      <td>id</td>\n",
       "      <td>integer</td>\n",
       "      <td>pa004</td>\n",
       "    </tr>\n",
       "    <tr>\n",
       "      <th>7</th>\n",
       "      <td>users</td>\n",
       "      <td>age</td>\n",
       "      <td>integer</td>\n",
       "      <td>pa004</td>\n",
       "    </tr>\n",
       "    <tr>\n",
       "      <th>8</th>\n",
       "      <td>users</td>\n",
       "      <td>gender</td>\n",
       "      <td>text</td>\n",
       "      <td>pa004</td>\n",
       "    </tr>\n",
       "    <tr>\n",
       "      <th>9</th>\n",
       "      <td>users</td>\n",
       "      <td>policy_sales_channel</td>\n",
       "      <td>double precision</td>\n",
       "      <td>pa004</td>\n",
       "    </tr>\n",
       "    <tr>\n",
       "      <th>10</th>\n",
       "      <td>vehicle</td>\n",
       "      <td>id</td>\n",
       "      <td>integer</td>\n",
       "      <td>pa004</td>\n",
       "    </tr>\n",
       "    <tr>\n",
       "      <th>11</th>\n",
       "      <td>vehicle</td>\n",
       "      <td>vehicle_age</td>\n",
       "      <td>text</td>\n",
       "      <td>pa004</td>\n",
       "    </tr>\n",
       "    <tr>\n",
       "      <th>12</th>\n",
       "      <td>vehicle</td>\n",
       "      <td>vehicle_damage</td>\n",
       "      <td>text</td>\n",
       "      <td>pa004</td>\n",
       "    </tr>\n",
       "    <tr>\n",
       "      <th>13</th>\n",
       "      <td>vehicle</td>\n",
       "      <td>driving_license</td>\n",
       "      <td>integer</td>\n",
       "      <td>pa004</td>\n",
       "    </tr>\n",
       "  </tbody>\n",
       "</table>\n",
       "</div>"
      ],
      "text/plain": [
       "   table_name           column_name         data_type table_schema\n",
       "0   insurance               vintage           integer        pa004\n",
       "1   insurance    previously_insured           integer        pa004\n",
       "2   insurance                    id           integer        pa004\n",
       "3   insurance              response           integer        pa004\n",
       "4   insurance        annual_premium  double precision        pa004\n",
       "5       users           region_code  double precision        pa004\n",
       "6       users                    id           integer        pa004\n",
       "7       users                   age           integer        pa004\n",
       "8       users                gender              text        pa004\n",
       "9       users  policy_sales_channel  double precision        pa004\n",
       "10    vehicle                    id           integer        pa004\n",
       "11    vehicle           vehicle_age              text        pa004\n",
       "12    vehicle        vehicle_damage              text        pa004\n",
       "13    vehicle       driving_license           integer        pa004"
      ]
     },
     "execution_count": 50,
     "metadata": {},
     "output_type": "execute_result"
    }
   ],
   "source": [
    "database"
   ]
  },
  {
   "cell_type": "code",
   "execution_count": 51,
   "id": "e4be31ba",
   "metadata": {
    "ExecuteTime": {
     "end_time": "2022-01-03T00:06:39.932539Z",
     "start_time": "2022-01-03T00:06:35.972568Z"
    }
   },
   "outputs": [],
   "source": [
    "insurance_query = '''SELECT * FROM pa004.insurance'''\n",
    "insurance = pd.read_sql(insurance_query, con=connection)"
   ]
  },
  {
   "cell_type": "code",
   "execution_count": 53,
   "id": "41f2df8f",
   "metadata": {
    "ExecuteTime": {
     "end_time": "2022-01-03T00:07:27.466490Z",
     "start_time": "2022-01-03T00:07:23.619164Z"
    }
   },
   "outputs": [],
   "source": [
    "users_query = '''SELECT * FROM pa004.users'''\n",
    "users= pd.read_sql(users_query, con=connection)"
   ]
  },
  {
   "cell_type": "code",
   "execution_count": 54,
   "id": "3fcd15df",
   "metadata": {
    "ExecuteTime": {
     "end_time": "2022-01-03T00:07:56.747747Z",
     "start_time": "2022-01-03T00:07:52.906383Z"
    }
   },
   "outputs": [],
   "source": [
    "vehicle_query = '''SELECT * FROM pa004.vehicle'''\n",
    "vehicle = pd.read_sql(vehicle_query, con=connection)"
   ]
  },
  {
   "cell_type": "markdown",
   "id": "a7ac1db9",
   "metadata": {},
   "source": [
    "# 1.0 Descrição dos dados"
   ]
  },
  {
   "cell_type": "code",
   "execution_count": null,
   "id": "b6234bb7",
   "metadata": {},
   "outputs": [],
   "source": []
  }
 ],
 "metadata": {
  "kernelspec": {
   "display_name": "Python 3 (ipykernel)",
   "language": "python",
   "name": "python3"
  },
  "language_info": {
   "codemirror_mode": {
    "name": "ipython",
    "version": 3
   },
   "file_extension": ".py",
   "mimetype": "text/x-python",
   "name": "python",
   "nbconvert_exporter": "python",
   "pygments_lexer": "ipython3",
   "version": "3.8.10"
  }
 },
 "nbformat": 4,
 "nbformat_minor": 5
}
